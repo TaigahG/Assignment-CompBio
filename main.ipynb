{
 "cells": [
  {
   "cell_type": "code",
   "execution_count": 2,
   "metadata": {},
   "outputs": [
    {
     "name": "stdout",
     "output_type": "stream",
     "text": [
      "DNA: TTACGA\n",
      "Complement: AATGCT\n",
      "mRNA: AAUGCU\n",
      "Protein: Asn-Ala\n"
     ]
    }
   ],
   "source": [
    "codon_table = {\n",
    "    'UUU': 'Phe', 'UUC': 'Phe', 'UUA': 'Leu', 'UUG': 'Leu',\n",
    "    'CUU': 'Leu', 'CUC': 'Leu', 'CUA': 'Leu', 'CUG': 'Leu',\n",
    "    'AUU': 'Ile', 'AUC': 'Ile', 'AUA': 'Ile', 'AUG': 'Met',\n",
    "    'GUU': 'Val', 'GUC': 'Val', 'GUA': 'Val', 'GUG': 'Val',\n",
    "    'UCU': 'Ser', 'UCC': 'Ser', 'UCA': 'Ser', 'UCG': 'Ser',\n",
    "    'CCU': 'Pro', 'CCC': 'Pro', 'CCA': 'Pro', 'CCG': 'Pro',\n",
    "    'ACU': 'Thr', 'ACC': 'Thr', 'ACA': 'Thr', 'ACG': 'Thr',\n",
    "    'GCU': 'Ala', 'GCC': 'Ala', 'GCA': 'Ala', 'GCG': 'Ala',\n",
    "    'UAU': 'Tyr', 'UAC': 'Tyr', 'UAA': 'STOP', 'UAG': 'STOP',\n",
    "    'CAU': 'His', 'CAC': 'His', 'CAA': 'Gln', 'CAG': 'Gln',\n",
    "    'AAU': 'Asn', 'AAC': 'Asn', 'AAA': 'Lys', 'AAG': 'Lys',\n",
    "    'GAU': 'Asp', 'GAC': 'Asp', 'GAA': 'Glu', 'GAG': 'Glu',\n",
    "    'UGU': 'Cys', 'UGC': 'Cys', 'UGA': 'STOP', 'UGG': 'Trp',\n",
    "    'CGU': 'Arg', 'CGC': 'Arg', 'CGA': 'Arg', 'CGG': 'Arg',\n",
    "    'AGU': 'Ser', 'AGC': 'Ser', 'AGA': 'Arg', 'AGG': 'Arg',\n",
    "    'GGU': 'Gly', 'GGC': 'Gly', 'GGA': 'Gly', 'GGG': 'Gly'\n",
    "}\n",
    "complement = {'A': 'T', 'T': 'A', 'C': 'G', 'G': 'C'}\n",
    "\n",
    "\n",
    "def translate_rna(rna):\n",
    "    protein = []\n",
    "    for i in range(0, len(rna), 3):\n",
    "        codon = rna[i:i + 3]\n",
    "        if codon_table[codon] == 'STOP':\n",
    "            break\n",
    "        protein.append(codon_table[codon])\n",
    "    return protein\n",
    "\n",
    "\n",
    "def dna_to_mrna(dna):\n",
    "    return dna.replace('T', 'U')\n",
    "\n",
    "def dna_complement(dna):\n",
    "    return ''.join(complement[base] for base in dna)\n",
    "\n",
    "\n",
    "dna_seq = \"TTACGA\"\n",
    "complement_seq = dna_complement(dna_seq)\n",
    "mrna_seq = dna_to_mrna(complement_seq)\n",
    "protein = translate_rna(mrna_seq)\n",
    "\n",
    "print(f\"DNA: {dna_seq}\")\n",
    "print(f\"Complement: {complement_seq}\")\n",
    "print(f\"mRNA: {mrna_seq}\")\n",
    "print(f\"Protein: {'-'.join(protein)}\")\n",
    "\n"
   ]
  },
  {
   "cell_type": "code",
   "execution_count": 3,
   "metadata": {},
   "outputs": [
    {
     "name": "stdout",
     "output_type": "stream",
     "text": [
      "Possible mRNA Sequences: ['UGG UAU UGG', 'UGG UAC UGG']\n",
      "Codon Frequencies: {'UGG': 4, 'UAU': 1, 'UAC': 1}\n"
     ]
    }
   ],
   "source": [
    "from itertools import product\n",
    "\n",
    "amino_acid_to_codons = {\n",
    "    'Phe': ['UUU', 'UUC'], 'Leu': ['UUA', 'UUG', 'CUU', 'CUC', 'CUA', 'CUG'],\n",
    "    'Ile': ['AUU', 'AUC', 'AUA'], 'Met': ['AUG'], 'Val': ['GUU', 'GUC', 'GUA', 'GUG'],\n",
    "    'Ser': ['UCU', 'UCC', 'UCA', 'UCG', 'AGU', 'AGC'], 'Pro': ['CCU', 'CCC', 'CCA', 'CCG'],\n",
    "    'Thr': ['ACU', 'ACC', 'ACA', 'ACG'], 'Ala': ['GCU', 'GCC', 'GCA', 'GCG'],\n",
    "    'Tyr': ['UAU', 'UAC'], 'STOP': ['UAA', 'UAG', 'UGA'], 'His': ['CAU', 'CAC'],\n",
    "    'Gln': ['CAA', 'CAG'], 'Asn': ['AAU', 'AAC'], 'Lys': ['AAA', 'AAG'],\n",
    "    'Asp': ['GAU', 'GAC'], 'Glu': ['GAA', 'GAG'], 'Cys': ['UGU', 'UGC'],\n",
    "    'Trp': ['UGG'], 'Arg': ['CGU', 'CGC', 'CGA', 'CGG', 'AGA', 'AGG'],\n",
    "    'Gly': ['GGU', 'GGC', 'GGA', 'GGG']\n",
    "}\n",
    "\n",
    "amino_acid_symbols = {\n",
    "    'F': 'Phe', 'L': 'Leu', 'I': 'Ile', 'M': 'Met', 'V': 'Val', 'S': 'Ser', 'P': 'Pro', 'T': 'Thr', 'A': 'Ala',\n",
    "    'Y': 'Tyr', 'H': 'His', 'Q': 'Gln', 'N': 'Asn', 'K': 'Lys', 'D': 'Asp', 'E': 'Glu', 'C': 'Cys', 'W': 'Trp',\n",
    "    'R': 'Arg', 'G': 'Gly'\n",
    "}\n",
    "\n",
    "def get_possible_codons(amino_acid_sequence):\n",
    "    codon_combinations = []\n",
    "    \n",
    "    for amino_acid in amino_acid_sequence:\n",
    "        amino_acid_name = amino_acid_symbols.get(amino_acid)\n",
    "        if amino_acid_name in amino_acid_to_codons:\n",
    "            codon_combinations.append(amino_acid_to_codons[amino_acid_name])\n",
    "    \n",
    "    return codon_combinations\n",
    "\n",
    "\n",
    "def generate_mrna_sequences(codon_combinations):\n",
    "    return list(product(*codon_combinations))\n",
    "\n",
    "def count_codon_frequencies(mrna_sequences):\n",
    "    codon_count = {}\n",
    "    \n",
    "    for sequence in mrna_sequences:\n",
    "        for codon in sequence:\n",
    "            if codon in codon_count:\n",
    "                codon_count[codon] += 1\n",
    "            else:\n",
    "                codon_count[codon] = 1\n",
    "    \n",
    "    return codon_count\n",
    "\n",
    "amino_acid_input = \"WYW\"\n",
    "codon_combinations = get_possible_codons(amino_acid_input)\n",
    "mrna_sequences = generate_mrna_sequences(codon_combinations)\n",
    "codon_frequencies = count_codon_frequencies(mrna_sequences)\n",
    "\n",
    "print(\"Possible mRNA Sequences:\", [' '.join(seq) for seq in mrna_sequences])\n",
    "print(\"Codon Frequencies:\", codon_frequencies)\n"
   ]
  }
 ],
 "metadata": {
  "kernelspec": {
   "display_name": "Python 3",
   "language": "python",
   "name": "python3"
  },
  "language_info": {
   "codemirror_mode": {
    "name": "ipython",
    "version": 3
   },
   "file_extension": ".py",
   "mimetype": "text/x-python",
   "name": "python",
   "nbconvert_exporter": "python",
   "pygments_lexer": "ipython3",
   "version": "3.11.9"
  }
 },
 "nbformat": 4,
 "nbformat_minor": 2
}
